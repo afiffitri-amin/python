{
 "cells": [
  {
   "cell_type": "markdown",
   "metadata": {},
   "source": [
    "# Basic Regex Examples "
   ]
  },
  {
   "cell_type": "code",
   "execution_count": 1,
   "metadata": {},
   "outputs": [],
   "source": [
    "import re\n",
    "import time"
   ]
  },
  {
   "cell_type": "code",
   "execution_count": 2,
   "metadata": {},
   "outputs": [],
   "source": [
    "def match_example(text):\n",
    "    '''\n",
    "    Match one or more digits at the beginning of string\n",
    "    '''\n",
    "    pattern = r'\\d+'\n",
    "    match = re.match(pattern, text)\n",
    "    \n",
    "    if match:\n",
    "        print('Match')\n",
    "        print('Text: {0}. Length: {1}\\n'.format(text, len(match.group(0))))\n",
    "    else:\n",
    "        print('No Match.')\n",
    "        print('Text: {}'.format(text))\n",
    "\n",
    "    \n",
    "    "
   ]
  },
  {
   "cell_type": "code",
   "execution_count": 3,
   "metadata": {},
   "outputs": [
    {
     "name": "stdout",
     "output_type": "stream",
     "text": [
      "Match\n",
      "Text: 1234. Length: 4\n",
      "\n",
      "No Match.\n",
      "Text: ABC\n"
     ]
    }
   ],
   "source": [
    "match_example('1234')\n",
    "\n",
    "match_example('ABC')"
   ]
  },
  {
   "cell_type": "code",
   "execution_count": 4,
   "metadata": {},
   "outputs": [],
   "source": [
    "def search_example(text):\n",
    "    '''\n",
    "    Search for one or more digits in the entire string.\n",
    "    '''\n",
    "    pattern = r'\\d+'\n",
    "    match = re.search(pattern, text)\n",
    "    \n",
    "    if match:\n",
    "        print('Match')\n",
    "        print('Text: {0}. Length: {1}\\n'.format(text, len(match.group(0))))\n",
    "    else:\n",
    "        print('No Match.')\n",
    "        print('Text: {}'.format(text))"
   ]
  },
  {
   "cell_type": "code",
   "execution_count": 5,
   "metadata": {},
   "outputs": [
    {
     "name": "stdout",
     "output_type": "stream",
     "text": [
      "Match\n",
      "Text: ABCD123. Length: 3\n",
      "\n",
      "Match\n",
      "Text: PQRS456XYZ. Length: 3\n",
      "\n",
      "No Match.\n",
      "Text: NoNumbers\n",
      "Match\n",
      "Text: Numbers 123 and spaces. Length: 3\n",
      "\n"
     ]
    }
   ],
   "source": [
    "search_example('ABCD123')\n",
    "\n",
    "search_example('PQRS456XYZ')\n",
    "\n",
    "search_example('NoNumbers')\n",
    "\n",
    "search_example('Numbers 123 and spaces')"
   ]
  },
  {
   "cell_type": "code",
   "execution_count": 6,
   "metadata": {},
   "outputs": [],
   "source": [
    "def digits_only(string):\n",
    "    '''Check if the entire string is made out of digits.'''\n",
    "    \n",
    "    pattern = r'^\\d+$'\n",
    "    \n",
    "    match = re.search(pattern, text)\n",
    "    \n",
    "    if match:\n",
    "        print('Match')\n",
    "        print('Text: {0}. Length: {1}'.format(text, len(match.group(0))))\n",
    "    else:\n",
    "        print('No Match.')\n",
    "        print('Text: {}'.format(text))"
   ]
  },
  {
   "cell_type": "code",
   "execution_count": 7,
   "metadata": {},
   "outputs": [
    {
     "name": "stdout",
     "output_type": "stream",
     "text": [
      "Positive Test\n",
      "Match\n",
      "Text: 123. Length: 3\n",
      "Match\n",
      "Text: 03081993. Length: 8\n",
      "Match\n",
      "Text: 456. Length: 3\n",
      "Match\n",
      "Text: 246810. Length: 6\n",
      "\n",
      "Negative Test\n",
      "No Match.\n",
      "Text: ABCDEFG\n",
      "No Match.\n",
      "Text: AFIF\n",
      "No Match.\n",
      "Text: ABU\n",
      "No Match.\n",
      "Text: 123ABC\n"
     ]
    }
   ],
   "source": [
    "positiveTest = ['123', '03081993', '456', '246810']\n",
    "negativeTest = ['ABCDEFG', 'AFIF', 'ABU', '123ABC']\n",
    "\n",
    "\n",
    "print('Positive Test')\n",
    "for text in positiveTest:\n",
    "    digits_only(text)\n",
    "print()\n",
    "print('Negative Test')\n",
    "for text in negativeTest:\n",
    "    digits_only(text)"
   ]
  },
  {
   "cell_type": "code",
   "execution_count": 8,
   "metadata": {},
   "outputs": [],
   "source": [
    "def postal_codes(text):\n",
    "    '''Find all postal codes within given text.'''\n",
    "    \n",
    "    pattern = r'\\b\\d{5}\\b'\n",
    "    \n",
    "    match_iter = re.finditer(pattern, text)\n",
    "    \n",
    "    for match in match_iter:\n",
    "        print('Match')\n",
    "        print('Text: {0}. Index: {1}'.format(match.group(0), match.start()))\n"
   ]
  },
  {
   "cell_type": "code",
   "execution_count": 9,
   "metadata": {},
   "outputs": [],
   "source": [
    "string = 'Kuala Lumpur uses codes from 50000 to 60000. Putrajaya uses codes from 62300 to 62988.'"
   ]
  },
  {
   "cell_type": "code",
   "execution_count": 10,
   "metadata": {},
   "outputs": [
    {
     "name": "stdout",
     "output_type": "stream",
     "text": [
      "Match\n",
      "Text: 50000. Index: 29\n",
      "Match\n",
      "Text: 60000. Index: 38\n",
      "Match\n",
      "Text: 62300. Index: 71\n",
      "Match\n",
      "Text: 62988. Index: 80\n"
     ]
    }
   ],
   "source": [
    "postal_codes(string)"
   ]
  },
  {
   "cell_type": "code",
   "execution_count": 11,
   "metadata": {},
   "outputs": [],
   "source": [
    "def timestamps(text):\n",
    "    '''Break down timestamps into individual components.'''\n",
    "    \n",
    "    pattern = r'(?P<year>\\d{4})(?P<month>\\d{2})(?P<day>\\d{2})(?P<hour>\\d{2})?'\n",
    "    \n",
    "    match_iter = re.finditer(pattern, text)\n",
    "    \n",
    "    for match in match_iter:\n",
    "        print('Match. Text: {0} Index: {1} Length: {2}'.format(text,\n",
    "                                                               match.start(),\n",
    "                                                               len(match.group(0))))\n",
    "        print('Access by components:')\n",
    "        print('Year: ', match.group('year'))\n",
    "        print('Month: ', match.group('month'))\n",
    "        print('Day: ', match.group('day'))\n",
    "        print('Hour: ', match.group('hour'))\n"
   ]
  },
  {
   "cell_type": "code",
   "execution_count": 12,
   "metadata": {},
   "outputs": [
    {
     "name": "stdout",
     "output_type": "stream",
     "text": [
      "Match. Text: timestamp=20190719 Index: 10 Length: 8\n",
      "Access by components:\n",
      "Year:  2019\n",
      "Month:  07\n",
      "Day:  19\n",
      "Hour:  None\n"
     ]
    }
   ],
   "source": [
    "timestamps('timestamp=20190719')"
   ]
  },
  {
   "cell_type": "code",
   "execution_count": 13,
   "metadata": {},
   "outputs": [],
   "source": [
    "def grouping_by_number(text):\n",
    "    '''Divide different parts of the text into groups.'''\n",
    "    \n",
    "    pattern = r'(\\d{4})(\\d{2})(\\d{2})(\\d{2})?'\n",
    "    \n",
    "    match_iter = re.finditer(pattern, text)\n",
    "    \n",
    "    for match in match_iter:\n",
    "        print('Match. Text: {0} Index: {1} Length: {2}'.format(text,\n",
    "                                                               match.start(),\n",
    "                                                               len(match.group(0))))\n",
    "        \n",
    "        for count,value in enumerate(match.groups()):\n",
    "            print('Group: {0}, Value: {1}'.format(count+1, value))"
   ]
  },
  {
   "cell_type": "code",
   "execution_count": 14,
   "metadata": {},
   "outputs": [
    {
     "name": "stdout",
     "output_type": "stream",
     "text": [
      "Match. Text: timestamps=20190719 Index: 11 Length: 8\n",
      "Group: 1, Value: 2019\n",
      "Group: 2, Value: 07\n",
      "Group: 3, Value: 19\n",
      "Group: 4, Value: None\n"
     ]
    }
   ],
   "source": [
    "grouping_by_number('timestamps=20190719')"
   ]
  },
  {
   "cell_type": "code",
   "execution_count": 15,
   "metadata": {},
   "outputs": [],
   "source": [
    "def substitute_currency(text):\n",
    "    \n",
    "    pattern = r'(?P<value>\\d+(,\\d{3})*(\\.\\d{2})?)\\s+ringgit(s)?'\n",
    "    \n",
    "    replacement = r'**MYR \\g<value>**'\n",
    "    \n",
    "    print('Text:\\n{0}\\n'. format(text))\n",
    "    \n",
    "    new_text = re.sub(pattern, replacement, text)\n",
    "    \n",
    "    print('New Text:\\n{0}'. format(new_text))"
   ]
  },
  {
   "cell_type": "code",
   "execution_count": 16,
   "metadata": {},
   "outputs": [],
   "source": [
    "price =\\\n",
    "'''Unit Cost of Laptop: 2,500.50 ringgit\n",
    "Tax: 15.00 ringgit\n",
    "Total: 2,515.50 ringgit'''"
   ]
  },
  {
   "cell_type": "code",
   "execution_count": 17,
   "metadata": {},
   "outputs": [
    {
     "name": "stdout",
     "output_type": "stream",
     "text": [
      "Text:\n",
      "Unit Cost of Laptop: 2,500.50 ringgit\n",
      "Tax: 15.00 ringgit\n",
      "Total: 2,515.50 ringgit\n",
      "\n",
      "New Text:\n",
      "Unit Cost of Laptop: **MYR 2,500.50**\n",
      "Tax: **MYR 15.00**\n",
      "Total: **MYR 2,515.50**\n"
     ]
    }
   ],
   "source": [
    "substitute_currency(price)"
   ]
  },
  {
   "cell_type": "code",
   "execution_count": 18,
   "metadata": {},
   "outputs": [],
   "source": [
    "def fahrenheit_to_celcius(match):\n",
    "    degF = float(match.group(\"fahrenheit\"))\n",
    "    degCelcius = (degF - 32.0) * 5.0/9.0\n",
    "    return '{0}°C'.format(round(degCelcius));"
   ]
  },
  {
   "cell_type": "code",
   "execution_count": 19,
   "metadata": {},
   "outputs": [],
   "source": [
    "def temperature_convert(text):\n",
    "    '''Convert temperature unit from Fahrenheit to Celcius'''\n",
    "    pattern = r\"(?P<fahrenheit>\\d+)\\u00B0F\"\n",
    "    \n",
    "    print('Text: ', format(text))\n",
    "    \n",
    "    new_text = re.sub(pattern, fahrenheit_to_celcius, text)\n",
    "    \n",
    "    print('Text after: ',format(new_text))"
   ]
  },
  {
   "cell_type": "code",
   "execution_count": 20,
   "metadata": {},
   "outputs": [],
   "source": [
    "text = \"Today's temperature is 70°F\""
   ]
  },
  {
   "cell_type": "code",
   "execution_count": 21,
   "metadata": {},
   "outputs": [
    {
     "name": "stdout",
     "output_type": "stream",
     "text": [
      "Text:  Today's temperature is 70°F\n",
      "Text after:  Today's temperature is 21°C\n"
     ]
    }
   ],
   "source": [
    "temperature_convert(text)"
   ]
  },
  {
   "cell_type": "code",
   "execution_count": 22,
   "metadata": {},
   "outputs": [],
   "source": [
    "def split_list(some_list):\n",
    "    '''Split a long list into separate items.'''\n",
    "    \n",
    "    pattern = r\"\\d+\\.\\s*\"\n",
    "    \n",
    "    print(\"Before split: \", some_list)\n",
    "    \n",
    "    split_text = re.split(pattern, some_list)\n",
    "    \n",
    "    print(\"After split: \")\n",
    "    for each in split_text:\n",
    "        print('{}'.format(each))"
   ]
  },
  {
   "cell_type": "code",
   "execution_count": 23,
   "metadata": {},
   "outputs": [],
   "source": [
    "some_list = (\"I like 1.coffee 2.kueytiow 3.chatime 4.maggi\")"
   ]
  },
  {
   "cell_type": "code",
   "execution_count": 24,
   "metadata": {},
   "outputs": [
    {
     "name": "stdout",
     "output_type": "stream",
     "text": [
      "Before split:  I like 1.coffee 2.kueytiow 3.chatime 4.maggi\n",
      "After split: \n",
      "I like \n",
      "coffee \n",
      "kueytiow \n",
      "chatime \n",
      "maggi\n"
     ]
    }
   ],
   "source": [
    "split_list(some_list)"
   ]
  },
  {
   "cell_type": "code",
   "execution_count": null,
   "metadata": {},
   "outputs": [],
   "source": []
  }
 ],
 "metadata": {
  "kernelspec": {
   "display_name": "Python 3",
   "language": "python",
   "name": "python3"
  },
  "language_info": {
   "codemirror_mode": {
    "name": "ipython",
    "version": 3
   },
   "file_extension": ".py",
   "mimetype": "text/x-python",
   "name": "python",
   "nbconvert_exporter": "python",
   "pygments_lexer": "ipython3",
   "version": "3.7.3"
  }
 },
 "nbformat": 4,
 "nbformat_minor": 4
}
