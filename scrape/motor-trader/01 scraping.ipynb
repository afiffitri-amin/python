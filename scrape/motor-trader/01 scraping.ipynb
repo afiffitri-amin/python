{
 "cells": [
  {
   "cell_type": "markdown",
   "metadata": {},
   "source": [
    "# Scraping Motor Trader Website"
   ]
  },
  {
   "cell_type": "markdown",
   "metadata": {},
   "source": [
    "This is a demonstration of web scraping for Motor Trader Used Car Section [website](https://www.motortrader.com.my/usedcar). This script is for educational purposes only. Web scraping should only be done responsibly after understanding the potential risks and ethical issues."
   ]
  },
  {
   "cell_type": "code",
   "execution_count": 1,
   "metadata": {},
   "outputs": [],
   "source": [
    "import requests\n",
    "from bs4 import BeautifulSoup\n",
    "import csv\n",
    "from time import sleep"
   ]
  },
  {
   "cell_type": "code",
   "execution_count": 2,
   "metadata": {},
   "outputs": [
    {
     "name": "stdout",
     "output_type": "stream",
     "text": [
      "Now scraping: Page 1\n",
      "Now scraping: Page 2\n",
      "Now scraping: Page 3\n",
      "Now scraping: Page 4\n",
      "Now scraping: Page 5\n",
      "Now scraping: Page 6\n",
      "Now scraping: Page 7\n",
      "Now scraping: Page 8\n",
      "Now scraping: Page 9\n",
      "Now scraping: Page 10\n",
      "Now scraping: Page 11\n",
      "Now scraping: Page 12\n",
      "Now scraping: Page 13\n",
      "Now scraping: Page 14\n",
      "Now scraping: Page 15\n",
      "Now scraping: Page 16\n",
      "Now scraping: Page 17\n",
      "Now scraping: Page 18\n",
      "Now scraping: Page 19\n",
      "Now scraping: Page 20\n",
      "Now scraping: Page 21\n",
      "Now scraping: Page 22\n",
      "Now scraping: Page 23\n",
      "Now scraping: Page 24\n",
      "Now scraping: Page 25\n",
      "Now scraping: Page 26\n",
      "Now scraping: Page 27\n",
      "Now scraping: Page 28\n",
      "Now scraping: Page 29\n",
      "Now scraping: Page 30\n",
      "Now scraping: Page 31\n",
      "Now scraping: Page 32\n",
      "Now scraping: Page 33\n",
      "Now scraping: Page 34\n",
      "Now scraping: Page 35\n",
      "Now scraping: Page 36\n",
      "Now scraping: Page 37\n",
      "Now scraping: Page 38\n",
      "Now scraping: Page 39\n",
      "Now scraping: Page 40\n",
      "Now scraping: Page 41\n",
      "Now scraping: Page 42\n",
      "Now scraping: Page 43\n",
      "Now scraping: Page 44\n",
      "Now scraping: Page 45\n",
      "Now scraping: Page 46\n",
      "Now scraping: Page 47\n",
      "Now scraping: Page 48\n",
      "Now scraping: Page 49\n",
      "Now scraping: Page 50\n"
     ]
    }
   ],
   "source": [
    "url = \"https://www.motortrader.com.my/usedcar/page/\"\n",
    "crawl_listing = []\n",
    "\n",
    "# loop through first 50 pages of the website\n",
    "for i in range(1,51):\n",
    "    crawl = requests.get(f\"{url}{i}\")\n",
    "    soup = BeautifulSoup(crawl.text, \"html.parser\")\n",
    "    print(\"Now scraping: Page\",i)\n",
    "    \n",
    "    #save the scraped HTML to list\n",
    "    crawl_listing.append(soup.find_all(class_=\"advert-listing\"))\n",
    "    sleep(3)"
   ]
  },
  {
   "cell_type": "code",
   "execution_count": 3,
   "metadata": {},
   "outputs": [],
   "source": [
    "%%capture #hide output\n",
    "\n",
    "with open(\"motor_trader.csv\", \"w\", encoding='utf-8') as file:\n",
    "    writer = csv.writer(file);\n",
    "    writer.writerow([\"Name\", \"URL\", \"Price\"])\n",
    "\n",
    "    for ad in crawl_listing:\n",
    "        for i in ad:\n",
    "\n",
    "            name = i.find(\"img\")[\"alt\"]\n",
    "\n",
    "            url = i.find(\"a\")[\"href\"]\n",
    "\n",
    "            price_list = i.find(class_=\"advert-price gk-tool-tips\").get_text()\n",
    "            price = price_list.replace(\"\\nRM \", \"\").strip()\n",
    "\n",
    "            writer.writerow([name,url,price]);\n",
    "            \n",
    "file.close()"
   ]
  },
  {
   "cell_type": "markdown",
   "metadata": {},
   "source": [
    "After scraping, the file is checked to see if the script worked."
   ]
  },
  {
   "cell_type": "code",
   "execution_count": 5,
   "metadata": {},
   "outputs": [
    {
     "name": "stdout",
     "output_type": "stream",
     "text": [
      "<class 'pandas.core.frame.DataFrame'>\n",
      "RangeIndex: 1000 entries, 0 to 999\n",
      "Data columns (total 3 columns):\n",
      "Name     1000 non-null object\n",
      "URL      1000 non-null object\n",
      "Price    1000 non-null object\n",
      "dtypes: object(3)\n",
      "memory usage: 23.5+ KB\n"
     ]
    }
   ],
   "source": [
    "import pandas as pd\n",
    "\n",
    "pd.read_csv(\"motor_trader.csv\").info()"
   ]
  },
  {
   "cell_type": "markdown",
   "metadata": {},
   "source": [
    "The data is scraped successfully. This data can now be cleaned and analysed.\n",
    "\n",
    "[Cleaning]()"
   ]
  },
  {
   "cell_type": "code",
   "execution_count": null,
   "metadata": {},
   "outputs": [],
   "source": []
  }
 ],
 "metadata": {
  "kernelspec": {
   "display_name": "Python 3",
   "language": "python",
   "name": "python3"
  },
  "language_info": {
   "codemirror_mode": {
    "name": "ipython",
    "version": 3
   },
   "file_extension": ".py",
   "mimetype": "text/x-python",
   "name": "python",
   "nbconvert_exporter": "python",
   "pygments_lexer": "ipython3",
   "version": "3.7.3"
  }
 },
 "nbformat": 4,
 "nbformat_minor": 4
}
