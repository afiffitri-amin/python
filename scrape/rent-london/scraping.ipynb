{
 "cells": [
  {
   "cell_type": "markdown",
   "metadata": {},
   "source": [
    "# Scraping rightmove.co.uk data"
   ]
  },
  {
   "cell_type": "markdown",
   "metadata": {},
   "source": [
    "Data is scraped from [Rightmove](https://www.rightmove.co.uk/property-to-rent.html). Data is limited to properties available for rent in London."
   ]
  },
  {
   "cell_type": "code",
   "execution_count": 1,
   "metadata": {},
   "outputs": [],
   "source": [
    "import requests\n",
    "from bs4 import BeautifulSoup\n",
    "import csv\n",
    "from time import sleep\n",
    "from tqdm import tqdm"
   ]
  },
  {
   "cell_type": "code",
   "execution_count": 2,
   "metadata": {},
   "outputs": [],
   "source": [
    "base_url = 'https://www.rightmove.co.uk/property-to-rent/find.html?locationIdentifier=REGION%5E87490'\n",
    "page_code = '&index='\n",
    "url_end = '&propertyTypes=&includeLetAgreed=false&mustHave=&dontShow=&furnishTypes=&keywords='\n",
    "\n",
    "listing = []\n",
    "first_page = requests.get(f\"{base_url}{url_end}\")\n",
    "soup = BeautifulSoup(first_page.text, \"html.parser\")\n",
    "listing.append(soup.find_all(class_=\"propertyCard-wrapper\"))"
   ]
  },
  {
   "cell_type": "code",
   "execution_count": 3,
   "metadata": {},
   "outputs": [
    {
     "name": "stderr",
     "output_type": "stream",
     "text": [
      "100%|██████████████████████████████████████████████████████████████████████████████████| 40/40 [07:36<00:00, 11.50s/it]\n"
     ]
    }
   ],
   "source": [
    "for i in tqdm(range(24,984,24)):\n",
    "    following_pages = requests.get(f\"{base_url}{page_code}{i}{url_end}\")\n",
    "    soup = BeautifulSoup(following_pages.text, \"html.parser\")\n",
    "    listing.append(soup.find_all(class_=\"propertyCard-wrapper\"))\n",
    "    sleep(5)"
   ]
  },
  {
   "cell_type": "code",
   "execution_count": 4,
   "metadata": {},
   "outputs": [],
   "source": [
    "%%capture\n",
    "\n",
    "with open(\"london-rent.csv\", \"w\", encoding='utf-8') as file:\n",
    "    writer = csv.writer(file);\n",
    "    writer.writerow([\"title\", \"address\", \"price\", \"phone\", \"branch\"])\n",
    "\n",
    "    for ad in listing:\n",
    "        for i in ad:\n",
    "\n",
    "            title = str(i.find(class_=\"propertyCard-title\").get_text()).strip()\n",
    "\n",
    "            address = str(i.find(class_=\"propertyCard-address\").get_text()).strip()\n",
    "\n",
    "            price = str(i.find(class_=\"propertyCard-priceValue\").get_text().strip())\n",
    "\n",
    "            phone = str(i.find(class_=\"propertyCard-contactsPhoneNumber\").get_text()).strip()\n",
    "\n",
    "            branch = str(i.find(class_=\"propertyCard-branchSummary-branchName\").get_text()).strip()\n",
    "\n",
    "            writer.writerow([title,address,price,phone,branch])\n",
    "\n",
    "file.close()"
   ]
  },
  {
   "cell_type": "code",
   "execution_count": 5,
   "metadata": {},
   "outputs": [
    {
     "data": {
      "text/html": [
       "<div>\n",
       "<style scoped>\n",
       "    .dataframe tbody tr th:only-of-type {\n",
       "        vertical-align: middle;\n",
       "    }\n",
       "\n",
       "    .dataframe tbody tr th {\n",
       "        vertical-align: top;\n",
       "    }\n",
       "\n",
       "    .dataframe thead th {\n",
       "        text-align: right;\n",
       "    }\n",
       "</style>\n",
       "<table border=\"1\" class=\"dataframe\">\n",
       "  <thead>\n",
       "    <tr style=\"text-align: right;\">\n",
       "      <th></th>\n",
       "      <th>title</th>\n",
       "      <th>address</th>\n",
       "      <th>price</th>\n",
       "      <th>phone</th>\n",
       "      <th>branch</th>\n",
       "    </tr>\n",
       "  </thead>\n",
       "  <tbody>\n",
       "    <tr>\n",
       "      <th>0</th>\n",
       "      <td>2 bedroom apartment</td>\n",
       "      <td>Onega Gate, SE16</td>\n",
       "      <td>£1,712 pcm</td>\n",
       "      <td>020 8012 2917</td>\n",
       "      <td>by Hamptons International Lettings, Tower Bridge</td>\n",
       "    </tr>\n",
       "    <tr>\n",
       "      <th>1</th>\n",
       "      <td>4 bedroom semi-detached house</td>\n",
       "      <td>Perth Road, London, N22</td>\n",
       "      <td>£2,400 pcm</td>\n",
       "      <td>020 8012 3106</td>\n",
       "      <td>by PropertyNet, Crouch End</td>\n",
       "    </tr>\n",
       "    <tr>\n",
       "      <th>2</th>\n",
       "      <td>3 bedroom ground floor flat</td>\n",
       "      <td>Rosebery Gardens, London, N8</td>\n",
       "      <td>£1,863 pcm</td>\n",
       "      <td>020 8012 3106</td>\n",
       "      <td>by PropertyNet, Crouch End</td>\n",
       "    </tr>\n",
       "    <tr>\n",
       "      <th>3</th>\n",
       "      <td>3 bedroom flat</td>\n",
       "      <td>Tottenham Lane,London,N8</td>\n",
       "      <td>£1,500 pcm</td>\n",
       "      <td>020 8012 3106</td>\n",
       "      <td>by PropertyNet, Crouch End</td>\n",
       "    </tr>\n",
       "    <tr>\n",
       "      <th>4</th>\n",
       "      <td>2 bedroom apartment</td>\n",
       "      <td>Distillery Wharf, Fulham Reach</td>\n",
       "      <td>£3,683 pcm</td>\n",
       "      <td>020 8012 5410</td>\n",
       "      <td>by Martin &amp; Co, London Riverside - Lettings &amp; ...</td>\n",
       "    </tr>\n",
       "    <tr>\n",
       "      <th>5</th>\n",
       "      <td>1 bedroom apartment</td>\n",
       "      <td>Brierly Gardens, Bethnal Green, E2</td>\n",
       "      <td>£1,400 pcm</td>\n",
       "      <td>020 8012 1071</td>\n",
       "      <td>by Peach Properties, Shoreditch</td>\n",
       "    </tr>\n",
       "    <tr>\n",
       "      <th>6</th>\n",
       "      <td>3 bedroom flat</td>\n",
       "      <td>Juliet House, Hoxton, N1</td>\n",
       "      <td>£1,900 pcm</td>\n",
       "      <td>020 8012 5452</td>\n",
       "      <td>by Hawkes Property Group, London</td>\n",
       "    </tr>\n",
       "    <tr>\n",
       "      <th>7</th>\n",
       "      <td>2 bedroom flat</td>\n",
       "      <td>Clifton Gardens, Golders Green</td>\n",
       "      <td>£1,603 pcm</td>\n",
       "      <td>020 8012 2003</td>\n",
       "      <td>by Kingsleys Estates, Golders Green - Lettings</td>\n",
       "    </tr>\n",
       "    <tr>\n",
       "      <th>8</th>\n",
       "      <td>2 bedroom flat</td>\n",
       "      <td>Chilton Grove, London, SE8</td>\n",
       "      <td>£1,350 pcm</td>\n",
       "      <td>020 8012 7269</td>\n",
       "      <td>by Hamilton Leigh Estates UK, Barking and Dage...</td>\n",
       "    </tr>\n",
       "    <tr>\n",
       "      <th>9</th>\n",
       "      <td>1 bedroom flat</td>\n",
       "      <td>Fonthill Road, London, N4</td>\n",
       "      <td>£1,400 pcm</td>\n",
       "      <td>0115 798 0536</td>\n",
       "      <td>by Ion Property Management, London</td>\n",
       "    </tr>\n",
       "  </tbody>\n",
       "</table>\n",
       "</div>"
      ],
      "text/plain": [
       "                           title                             address  \\\n",
       "0            2 bedroom apartment                    Onega Gate, SE16   \n",
       "1  4 bedroom semi-detached house             Perth Road, London, N22   \n",
       "2    3 bedroom ground floor flat        Rosebery Gardens, London, N8   \n",
       "3                 3 bedroom flat            Tottenham Lane,London,N8   \n",
       "4            2 bedroom apartment      Distillery Wharf, Fulham Reach   \n",
       "5            1 bedroom apartment  Brierly Gardens, Bethnal Green, E2   \n",
       "6                 3 bedroom flat            Juliet House, Hoxton, N1   \n",
       "7                 2 bedroom flat      Clifton Gardens, Golders Green   \n",
       "8                 2 bedroom flat          Chilton Grove, London, SE8   \n",
       "9                 1 bedroom flat           Fonthill Road, London, N4   \n",
       "\n",
       "        price          phone  \\\n",
       "0  £1,712 pcm  020 8012 2917   \n",
       "1  £2,400 pcm  020 8012 3106   \n",
       "2  £1,863 pcm  020 8012 3106   \n",
       "3  £1,500 pcm  020 8012 3106   \n",
       "4  £3,683 pcm  020 8012 5410   \n",
       "5  £1,400 pcm  020 8012 1071   \n",
       "6  £1,900 pcm  020 8012 5452   \n",
       "7  £1,603 pcm  020 8012 2003   \n",
       "8  £1,350 pcm  020 8012 7269   \n",
       "9  £1,400 pcm  0115 798 0536   \n",
       "\n",
       "                                              branch  \n",
       "0   by Hamptons International Lettings, Tower Bridge  \n",
       "1                         by PropertyNet, Crouch End  \n",
       "2                         by PropertyNet, Crouch End  \n",
       "3                         by PropertyNet, Crouch End  \n",
       "4  by Martin & Co, London Riverside - Lettings & ...  \n",
       "5                    by Peach Properties, Shoreditch  \n",
       "6                   by Hawkes Property Group, London  \n",
       "7     by Kingsleys Estates, Golders Green - Lettings  \n",
       "8  by Hamilton Leigh Estates UK, Barking and Dage...  \n",
       "9                 by Ion Property Management, London  "
      ]
     },
     "execution_count": 5,
     "metadata": {},
     "output_type": "execute_result"
    }
   ],
   "source": [
    "import pandas as pd\n",
    "\n",
    "pd.read_csv(\"london-rent.csv\").head(10)"
   ]
  }
 ],
 "metadata": {
  "kernelspec": {
   "display_name": "Python 3",
   "language": "python",
   "name": "python3"
  },
  "language_info": {
   "codemirror_mode": {
    "name": "ipython",
    "version": 3
   },
   "file_extension": ".py",
   "mimetype": "text/x-python",
   "name": "python",
   "nbconvert_exporter": "python",
   "pygments_lexer": "ipython3",
   "version": "3.7.3"
  }
 },
 "nbformat": 4,
 "nbformat_minor": 4
}
