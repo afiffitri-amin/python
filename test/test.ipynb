{
 "cells": [
  {
   "cell_type": "markdown",
   "metadata": {},
   "source": [
    "This is a technical assessment code that I was required to complete as part of a hiring process for a marketing company. It is an interesting problem to solve that tests multiple skills all in one task, which include:\n",
    "\n",
    "- HTML parsing\n",
    "- Lists and Dictionaries (indexing, slicing)\n",
    "- pandas DataFrame manipulation\n",
    "- JSON file manipulation (serialization, deserialization)\n",
    "- MongoDB using PyMongo\n",
    "\n",
    "The task is to compile blog entries and corresponding comments from two different csv files into one JSON formatted file to be inserted into a MongoDB collection."
   ]
  },
  {
   "cell_type": "code",
   "execution_count": 1,
   "metadata": {},
   "outputs": [],
   "source": [
    "import pandas as pd\n",
    "import json\n",
    "from bs4 import BeautifulSoup"
   ]
  },
  {
   "cell_type": "code",
   "execution_count": 2,
   "metadata": {},
   "outputs": [],
   "source": [
    "blogs = pd.read_csv(\"blogs.csv\", index_col='id')\n",
    "\n",
    "comments = pd.read_csv(\"comments.csv\")"
   ]
  },
  {
   "cell_type": "code",
   "execution_count": 3,
   "metadata": {},
   "outputs": [
    {
     "data": {
      "text/html": [
       "<div>\n",
       "<style scoped>\n",
       "    .dataframe tbody tr th:only-of-type {\n",
       "        vertical-align: middle;\n",
       "    }\n",
       "\n",
       "    .dataframe tbody tr th {\n",
       "        vertical-align: top;\n",
       "    }\n",
       "\n",
       "    .dataframe thead th {\n",
       "        text-align: right;\n",
       "    }\n",
       "</style>\n",
       "<table border=\"1\" class=\"dataframe\">\n",
       "  <thead>\n",
       "    <tr style=\"text-align: right;\">\n",
       "      <th></th>\n",
       "      <th>content</th>\n",
       "      <th>author</th>\n",
       "      <th>title</th>\n",
       "    </tr>\n",
       "    <tr>\n",
       "      <th>id</th>\n",
       "      <th></th>\n",
       "      <th></th>\n",
       "      <th></th>\n",
       "    </tr>\n",
       "  </thead>\n",
       "  <tbody>\n",
       "    <tr>\n",
       "      <th>1</th>\n",
       "      <td>&lt;p&gt;&lt;strong&gt;elasticsearch&lt;/strong&gt; version &lt;cod...</td>\n",
       "      <td>Shay Banon</td>\n",
       "      <td>0.19.2 Released</td>\n",
       "    </tr>\n",
       "    <tr>\n",
       "      <th>2</th>\n",
       "      <td>&lt;p&gt;&lt;strong&gt;elasticsearch&lt;/strong&gt; version &lt;cod...</td>\n",
       "      <td>Shay Banon</td>\n",
       "      <td>0.19.1 Released</td>\n",
       "    </tr>\n",
       "    <tr>\n",
       "      <th>3</th>\n",
       "      <td>&lt;p&gt;&lt;strong&gt;elasticsearch&lt;/strong&gt; version &lt;cod...</td>\n",
       "      <td>Shay Banon</td>\n",
       "      <td>0.19.0 Released</td>\n",
       "    </tr>\n",
       "    <tr>\n",
       "      <th>4</th>\n",
       "      <td>&lt;p&gt;&lt;strong&gt;elasticsearch&lt;/strong&gt; version &lt;cod...</td>\n",
       "      <td>Shay Banon</td>\n",
       "      <td>0.19.0.RC3 Released</td>\n",
       "    </tr>\n",
       "    <tr>\n",
       "      <th>5</th>\n",
       "      <td>&lt;p&gt;&lt;strong&gt;elasticsearch&lt;/strong&gt; version &lt;cod...</td>\n",
       "      <td>Shay Banon</td>\n",
       "      <td>0.19.0.RC2 Released</td>\n",
       "    </tr>\n",
       "  </tbody>\n",
       "</table>\n",
       "</div>"
      ],
      "text/plain": [
       "                                              content      author  \\\n",
       "id                                                                  \n",
       "1   <p><strong>elasticsearch</strong> version <cod...  Shay Banon   \n",
       "2   <p><strong>elasticsearch</strong> version <cod...  Shay Banon   \n",
       "3   <p><strong>elasticsearch</strong> version <cod...  Shay Banon   \n",
       "4   <p><strong>elasticsearch</strong> version <cod...  Shay Banon   \n",
       "5   <p><strong>elasticsearch</strong> version <cod...  Shay Banon   \n",
       "\n",
       "                   title  \n",
       "id                        \n",
       "1       0.19.2 Released   \n",
       "2       0.19.1 Released   \n",
       "3       0.19.0 Released   \n",
       "4   0.19.0.RC3 Released   \n",
       "5   0.19.0.RC2 Released   "
      ]
     },
     "execution_count": 3,
     "metadata": {},
     "output_type": "execute_result"
    }
   ],
   "source": [
    "blogs.head()"
   ]
  },
  {
   "cell_type": "code",
   "execution_count": 4,
   "metadata": {},
   "outputs": [
    {
     "data": {
      "text/html": [
       "<div>\n",
       "<style scoped>\n",
       "    .dataframe tbody tr th:only-of-type {\n",
       "        vertical-align: middle;\n",
       "    }\n",
       "\n",
       "    .dataframe tbody tr th {\n",
       "        vertical-align: top;\n",
       "    }\n",
       "\n",
       "    .dataframe thead th {\n",
       "        text-align: right;\n",
       "    }\n",
       "</style>\n",
       "<table border=\"1\" class=\"dataframe\">\n",
       "  <thead>\n",
       "    <tr style=\"text-align: right;\">\n",
       "      <th></th>\n",
       "      <th>poster</th>\n",
       "      <th>message</th>\n",
       "      <th>blog_id</th>\n",
       "      <th>id</th>\n",
       "    </tr>\n",
       "  </thead>\n",
       "  <tbody>\n",
       "    <tr>\n",
       "      <th>0</th>\n",
       "      <td>Bryan Green</td>\n",
       "      <td>Is there a plan for \"version 1.0\"? \\r\\nOr will...</td>\n",
       "      <td>1</td>\n",
       "      <td>1</td>\n",
       "    </tr>\n",
       "    <tr>\n",
       "      <th>1</th>\n",
       "      <td>Kristian</td>\n",
       "      <td>Great! And I see the new ICU plugin has been r...</td>\n",
       "      <td>2</td>\n",
       "      <td>2</td>\n",
       "    </tr>\n",
       "    <tr>\n",
       "      <th>2</th>\n",
       "      <td>ianmayo</td>\n",
       "      <td>Here's a URL to view the issues resolved betwe...</td>\n",
       "      <td>3</td>\n",
       "      <td>3</td>\n",
       "    </tr>\n",
       "    <tr>\n",
       "      <th>3</th>\n",
       "      <td>Benny Sadeh</td>\n",
       "      <td>like multiple keyword search (each one with a ...</td>\n",
       "      <td>4</td>\n",
       "      <td>4</td>\n",
       "    </tr>\n",
       "    <tr>\n",
       "      <th>4</th>\n",
       "      <td>Bryan Green</td>\n",
       "      <td>Thanks a ton Shay! This release rocks as usual...</td>\n",
       "      <td>4</td>\n",
       "      <td>5</td>\n",
       "    </tr>\n",
       "    <tr>\n",
       "      <th>5</th>\n",
       "      <td>Bryan Green</td>\n",
       "      <td>I always pull several different sets of data w...</td>\n",
       "      <td>4</td>\n",
       "      <td>6</td>\n",
       "    </tr>\n",
       "    <tr>\n",
       "      <th>6</th>\n",
       "      <td>haarts</td>\n",
       "      <td>What would be a good use case for msearch? I c...</td>\n",
       "      <td>4</td>\n",
       "      <td>7</td>\n",
       "    </tr>\n",
       "    <tr>\n",
       "      <th>7</th>\n",
       "      <td>Eric</td>\n",
       "      <td>Should you add new features to a RC version, r...</td>\n",
       "      <td>5</td>\n",
       "      <td>8</td>\n",
       "    </tr>\n",
       "    <tr>\n",
       "      <th>8</th>\n",
       "      <td>Seon</td>\n",
       "      <td>Hooo-rah, Shay and team.</td>\n",
       "      <td>7</td>\n",
       "      <td>9</td>\n",
       "    </tr>\n",
       "    <tr>\n",
       "      <th>9</th>\n",
       "      <td>Damian Tylczyński</td>\n",
       "      <td>Thanks!</td>\n",
       "      <td>7</td>\n",
       "      <td>10</td>\n",
       "    </tr>\n",
       "  </tbody>\n",
       "</table>\n",
       "</div>"
      ],
      "text/plain": [
       "              poster                                            message  \\\n",
       "0        Bryan Green  Is there a plan for \"version 1.0\"? \\r\\nOr will...   \n",
       "1           Kristian  Great! And I see the new ICU plugin has been r...   \n",
       "2            ianmayo  Here's a URL to view the issues resolved betwe...   \n",
       "3        Benny Sadeh  like multiple keyword search (each one with a ...   \n",
       "4        Bryan Green  Thanks a ton Shay! This release rocks as usual...   \n",
       "5        Bryan Green  I always pull several different sets of data w...   \n",
       "6             haarts  What would be a good use case for msearch? I c...   \n",
       "7               Eric  Should you add new features to a RC version, r...   \n",
       "8               Seon                           Hooo-rah, Shay and team.   \n",
       "9  Damian Tylczyński                                            Thanks!   \n",
       "\n",
       "   blog_id  id  \n",
       "0        1   1  \n",
       "1        2   2  \n",
       "2        3   3  \n",
       "3        4   4  \n",
       "4        4   5  \n",
       "5        4   6  \n",
       "6        4   7  \n",
       "7        5   8  \n",
       "8        7   9  \n",
       "9        7  10  "
      ]
     },
     "execution_count": 4,
     "metadata": {},
     "output_type": "execute_result"
    }
   ],
   "source": [
    "comments.head(10)"
   ]
  },
  {
   "cell_type": "code",
   "execution_count": 5,
   "metadata": {},
   "outputs": [],
   "source": [
    "cleaned_content = []\n",
    "\n",
    "for i in blogs.content:\n",
    "    \n",
    "    soup = BeautifulSoup(i, \"html.parser\")\n",
    "    \n",
    "    cleaned_content.append(soup.find(\"p\").get_text())"
   ]
  },
  {
   "cell_type": "code",
   "execution_count": 6,
   "metadata": {},
   "outputs": [],
   "source": [
    "blogs.drop(columns=\"content\", inplace=True)\n",
    "\n",
    "blogs[\"content\"] = cleaned_content"
   ]
  },
  {
   "cell_type": "code",
   "execution_count": 7,
   "metadata": {},
   "outputs": [],
   "source": [
    "blog_list = []\n",
    "\n",
    "for i in blogs.index:\n",
    "    \n",
    "    blogEntry={\n",
    "        \n",
    "        \"id\" : i,\n",
    "        \"title\" : blogs[\"title\"][i], \n",
    "        \"author\" : blogs[\"author\"][i],\n",
    "        \"content\" : blogs[\"content\"][i],\n",
    "        \"comments\" : comments[comments[\"blog_id\"] == i].to_dict('records')\n",
    "        \n",
    "    }\n",
    "    \n",
    "    blog_list.append(blogEntry)\n",
    "    with open(\"blogs_data.json\", \"w\", encoding=\"utf-8\") as file:\n",
    "        json.dump(blog_list, file, indent=4)"
   ]
  },
  {
   "cell_type": "code",
   "execution_count": 8,
   "metadata": {},
   "outputs": [],
   "source": [
    "import pymongo\n",
    "from pymongo import MongoClient"
   ]
  },
  {
   "cell_type": "code",
   "execution_count": 9,
   "metadata": {},
   "outputs": [],
   "source": [
    "client = MongoClient(\"mongodb://localhost:27017\")"
   ]
  },
  {
   "cell_type": "code",
   "execution_count": 10,
   "metadata": {},
   "outputs": [
    {
     "data": {
      "text/plain": [
       "<pymongo.results.InsertManyResult at 0x1387879ff48>"
      ]
     },
     "execution_count": 10,
     "metadata": {},
     "output_type": "execute_result"
    }
   ],
   "source": [
    "db = client.db[\"interview\"]\n",
    "collection = db.collection[\"blogs\"]\n",
    "\n",
    "with open(\"blogs_data.json\", \"r\", encoding=\"utf-8\") as f:\n",
    "    data = json.load(f)\n",
    "\n",
    "db.collection.insert_many(data)"
   ]
  }
 ],
 "metadata": {
  "kernelspec": {
   "display_name": "Python 3",
   "language": "python",
   "name": "python3"
  },
  "language_info": {
   "codemirror_mode": {
    "name": "ipython",
    "version": 3
   },
   "file_extension": ".py",
   "mimetype": "text/x-python",
   "name": "python",
   "nbconvert_exporter": "python",
   "pygments_lexer": "ipython3",
   "version": "3.7.4"
  }
 },
 "nbformat": 4,
 "nbformat_minor": 4
}
